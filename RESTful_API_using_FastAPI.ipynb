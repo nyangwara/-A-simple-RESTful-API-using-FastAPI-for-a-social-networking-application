{
  "nbformat": 4,
  "nbformat_minor": 0,
  "metadata": {
    "colab": {
      "provenance": [],
      "authorship_tag": "ABX9TyPRlrvn+0Ci81TfmOR07lVH",
      "include_colab_link": true
    },
    "kernelspec": {
      "name": "python3",
      "display_name": "Python 3"
    },
    "language_info": {
      "name": "python"
    }
  },
  "cells": [
    {
      "cell_type": "markdown",
      "metadata": {
        "id": "view-in-github",
        "colab_type": "text"
      },
      "source": [
        "<a href=\"https://colab.research.google.com/github/nyangwara/-A-simple-RESTful-API-using-FastAPI-for-a-social-networking-application/blob/main/RESTful_API_using_FastAPI.ipynb\" target=\"_parent\"><img src=\"https://colab.research.google.com/assets/colab-badge.svg\" alt=\"Open In Colab\"/></a>"
      ]
    },
    {
      "cell_type": "markdown",
      "source": [
        "# **Create a simple RESTful API using FastAPI for a social networking application**"
      ],
      "metadata": {
        "id": "5TRAsussLezT"
      }
    },
    {
      "cell_type": "markdown",
      "source": [
        "Functional requirements:<br>\n",
        "There should be some form of authentication and registration (JWT, Oauth, Oauth 2.0, etc..)<br>\n",
        "As a user I need to be able to signup and login<br>\n",
        "As a user I need to be able to create, edit, delete and view posts<br>\n",
        "As a user I can like or dislike other users’ posts but not my own <br>\n",
        "The API needs a UI Documentation (Swagger/ReDoc)<br>\n"
      ],
      "metadata": {
        "id": "WhWLL-A1LoRw"
      }
    },
    {
      "cell_type": "code",
      "execution_count": 1,
      "metadata": {
        "colab": {
          "base_uri": "https://localhost:8080/"
        },
        "id": "TCpT3Dz1LYjQ",
        "outputId": "4ca0646a-19d1-4e2c-9b70-a7feb7fba74d"
      },
      "outputs": [
        {
          "output_type": "stream",
          "name": "stdout",
          "text": [
            "Looking in indexes: https://pypi.org/simple, https://us-python.pkg.dev/colab-wheels/public/simple/\n",
            "Collecting fastapi\n",
            "  Downloading fastapi-0.88.0-py3-none-any.whl (55 kB)\n",
            "\u001b[2K     \u001b[90m━━━━━━━━━━━━━━━━━━━━━━━━━━━━━━━━━━━━━━━━\u001b[0m \u001b[32m55.5/55.5 KB\u001b[0m \u001b[31m7.2 MB/s\u001b[0m eta \u001b[36m0:00:00\u001b[0m\n",
            "\u001b[?25hCollecting starlette==0.22.0\n",
            "  Downloading starlette-0.22.0-py3-none-any.whl (64 kB)\n",
            "\u001b[2K     \u001b[90m━━━━━━━━━━━━━━━━━━━━━━━━━━━━━━━━━━━━━━━━\u001b[0m \u001b[32m64.3/64.3 KB\u001b[0m \u001b[31m8.5 MB/s\u001b[0m eta \u001b[36m0:00:00\u001b[0m\n",
            "\u001b[?25hRequirement already satisfied: pydantic!=1.7,!=1.7.1,!=1.7.2,!=1.7.3,!=1.8,!=1.8.1,<2.0.0,>=1.6.2 in /usr/local/lib/python3.8/dist-packages (from fastapi) (1.10.2)\n",
            "Requirement already satisfied: typing-extensions>=3.10.0 in /usr/local/lib/python3.8/dist-packages (from starlette==0.22.0->fastapi) (4.4.0)\n",
            "Collecting anyio<5,>=3.4.0\n",
            "  Downloading anyio-3.6.2-py3-none-any.whl (80 kB)\n",
            "\u001b[2K     \u001b[90m━━━━━━━━━━━━━━━━━━━━━━━━━━━━━━━━━━━━━━━━\u001b[0m \u001b[32m80.6/80.6 KB\u001b[0m \u001b[31m8.9 MB/s\u001b[0m eta \u001b[36m0:00:00\u001b[0m\n",
            "\u001b[?25hRequirement already satisfied: idna>=2.8 in /usr/local/lib/python3.8/dist-packages (from anyio<5,>=3.4.0->starlette==0.22.0->fastapi) (2.10)\n",
            "Collecting sniffio>=1.1\n",
            "  Downloading sniffio-1.3.0-py3-none-any.whl (10 kB)\n",
            "Installing collected packages: sniffio, anyio, starlette, fastapi\n",
            "Successfully installed anyio-3.6.2 fastapi-0.88.0 sniffio-1.3.0 starlette-0.22.0\n"
          ]
        }
      ],
      "source": [
        "!pip install fastapi"
      ]
    },
    {
      "cell_type": "code",
      "source": [
        "!pip install fastapi-jwt-auth"
      ],
      "metadata": {
        "colab": {
          "base_uri": "https://localhost:8080/"
        },
        "id": "s5H6Kc4hL-C4",
        "outputId": "35be5eac-2c8b-4529-aa90-201ac299f7f6"
      },
      "execution_count": 2,
      "outputs": [
        {
          "output_type": "stream",
          "name": "stdout",
          "text": [
            "Looking in indexes: https://pypi.org/simple, https://us-python.pkg.dev/colab-wheels/public/simple/\n",
            "Collecting fastapi-jwt-auth\n",
            "  Downloading fastapi_jwt_auth-0.5.0-py3-none-any.whl (12 kB)\n",
            "Requirement already satisfied: fastapi>=0.61.0 in /usr/local/lib/python3.8/dist-packages (from fastapi-jwt-auth) (0.88.0)\n",
            "Collecting PyJWT<2.0.0,>=1.7.1\n",
            "  Downloading PyJWT-1.7.1-py2.py3-none-any.whl (18 kB)\n",
            "Requirement already satisfied: starlette==0.22.0 in /usr/local/lib/python3.8/dist-packages (from fastapi>=0.61.0->fastapi-jwt-auth) (0.22.0)\n",
            "Requirement already satisfied: pydantic!=1.7,!=1.7.1,!=1.7.2,!=1.7.3,!=1.8,!=1.8.1,<2.0.0,>=1.6.2 in /usr/local/lib/python3.8/dist-packages (from fastapi>=0.61.0->fastapi-jwt-auth) (1.10.2)\n",
            "Requirement already satisfied: anyio<5,>=3.4.0 in /usr/local/lib/python3.8/dist-packages (from starlette==0.22.0->fastapi>=0.61.0->fastapi-jwt-auth) (3.6.2)\n",
            "Requirement already satisfied: typing-extensions>=3.10.0 in /usr/local/lib/python3.8/dist-packages (from starlette==0.22.0->fastapi>=0.61.0->fastapi-jwt-auth) (4.4.0)\n",
            "Requirement already satisfied: idna>=2.8 in /usr/local/lib/python3.8/dist-packages (from anyio<5,>=3.4.0->starlette==0.22.0->fastapi>=0.61.0->fastapi-jwt-auth) (2.10)\n",
            "Requirement already satisfied: sniffio>=1.1 in /usr/local/lib/python3.8/dist-packages (from anyio<5,>=3.4.0->starlette==0.22.0->fastapi>=0.61.0->fastapi-jwt-auth) (1.3.0)\n",
            "Installing collected packages: PyJWT, fastapi-jwt-auth\n",
            "Successfully installed PyJWT-1.7.1 fastapi-jwt-auth-0.5.0\n"
          ]
        }
      ]
    },
    {
      "cell_type": "code",
      "source": [
        "from fastapi import FastAPI\n",
        "#we will set up our authentication system. For this example, we will use JWT authentication.\n",
        "from fastapi_jwt_auth import JWTUser, JWTAuth\n",
        "app = FastAPI()\n",
        "jwt = JWTAuth()\n",
        "#we can create our registration and login routes\n",
        "@app.post(\"/signup\")\n",
        "async def signup(user: JWTUser):\n",
        "    # code to add user to database\n",
        "    return {\"access_token\": jwt.create_access_token(user)}\n",
        "\n",
        "@app.post(\"/login\")\n",
        "async def login(user: JWTUser):\n",
        "    # code to verify user credentials\n",
        "    return {\"access_token\": jwt.create_access_token(user)}\n",
        "\n",
        "\n",
        "#we will create our post routes.\n",
        "@app.post(\"/posts\")\n",
        "@jwt.required\n",
        "async def create_post(user: JWTUser, text: str):\n",
        "    # code to create post in database\n",
        "    return {\"success\": True}\n",
        "\n",
        "@app.put(\"/posts/{post_id}\")\n",
        "@jwt.required\n",
        "async def edit_post(user: JWTUser, post_id: int, text: str):\n",
        "    # code to edit post in database\n",
        "    return {\"success\": True}\n",
        "\n",
        "@app.delete(\"/posts/{post_id}\")\n",
        "@jwt.required\n",
        "async def delete_post(user: JWTUser, post_id: int):\n",
        "    # code to delete post from database\n",
        "    return {\"success\": True}\n",
        "\n",
        "@app.get(\"/posts/{post_id}\")\n",
        "async def view_post(post_id: int):\n",
        "    # code to retrieve post from database\n",
        "    return {\"text\": \"Post text\"}\n",
        "\n",
        "\n",
        "#we will create our like/dislike routes.\n",
        "@app.post(\"/posts/{post_id}/like\")\n",
        "@jwt.required\n",
        "async def like_post(user: JWTUser, post_id: int):\n",
        "    # code to add like to post in database\n",
        "    return {\"success\": True}\n",
        "\n",
        "@app.post(\"/posts/{post_id}/dislike\")\n",
        "@jwt.required\n",
        "async def dislike_post(user: JWTUser, post_id: int):\n",
        "    # code to add dislike to post in database\n",
        "    return {\"success\": True}\n"
      ],
      "metadata": {
        "id": "UyY6POpoLx3x"
      },
      "execution_count": null,
      "outputs": []
    },
    {
      "cell_type": "code",
      "source": [
        "#To add UI documentation to our API, we can use Swagger or ReDoc. \n",
        "!pip install fastapi-swagger\n"
      ],
      "metadata": {
        "id": "lIpwMfEtNG08"
      },
      "execution_count": null,
      "outputs": []
    },
    {
      "cell_type": "code",
      "source": [
        "from fastapi_swagger import SwaggerMiddleware\n",
        "app.add_middleware(SwaggerMiddleware)\n"
      ],
      "metadata": {
        "id": "RnuA5m5mNUPx"
      },
      "execution_count": null,
      "outputs": []
    },
    {
      "cell_type": "markdown",
      "source": [
        "Now, when we run our API and navigate to the /docs endpoint, we will see our Swagger documentation.<br>"
      ],
      "metadata": {
        "id": "ZthuMhm6NbNb"
      }
    },
    {
      "cell_type": "markdown",
      "source": [
        "https://docs.google.com/document/d/1_ZMjuXB0DnioQW7w30mrsA2WYzcdbWII4omgPvdPGQo/edit#heading=h.9jry205ljamx"
      ],
      "metadata": {
        "id": "Pf5pGB_gNnnp"
      }
    }
  ]
}